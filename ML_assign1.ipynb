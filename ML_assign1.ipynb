{
  "nbformat": 4,
  "nbformat_minor": 0,
  "metadata": {
    "colab": {
      "provenance": [],
      "authorship_tag": "ABX9TyOj2hvebIujczczqMgwycFE",
      "include_colab_link": true
    },
    "kernelspec": {
      "name": "python3",
      "display_name": "Python 3"
    },
    "language_info": {
      "name": "python"
    }
  },
  "cells": [
    {
      "cell_type": "markdown",
      "metadata": {
        "id": "view-in-github",
        "colab_type": "text"
      },
      "source": [
        "<a href=\"https://colab.research.google.com/github/ikabrain/UML501-IKANSH-MAHAJAN-102303754-LabAssignments/blob/main/ML_assign1.ipynb\" target=\"_parent\"><img src=\"https://colab.research.google.com/assets/colab-badge.svg\" alt=\"Open In Colab\"/></a>"
      ]
    },
    {
      "cell_type": "markdown",
      "source": [
        "# Assignment - 1 (Based on NumPy)\n",
        "---"
      ],
      "metadata": {
        "id": "mJTMMB-r1g0f"
      }
    },
    {
      "cell_type": "code",
      "source": [
        "import numpy as np"
      ],
      "metadata": {
        "id": "Vcs1qysvxAzX"
      },
      "execution_count": null,
      "outputs": []
    },
    {
      "cell_type": "markdown",
      "source": [
        "#### Q1. Questions on Basic NumPy Array"
      ],
      "metadata": {
        "id": "1KhIVz2zwzGE"
      }
    },
    {
      "cell_type": "markdown",
      "source": [
        "##### (a) Reverse the NumPy array: arr = np.array([1, 2, 3, 6, 4, 5])"
      ],
      "metadata": {
        "id": "Kv_ceMXcw3NW"
      }
    },
    {
      "cell_type": "code",
      "source": [
        "arr = np.array([1, 2, 3, 6, 4, 5])\n",
        "print(f\"Original array: {arr}\")\n",
        "\n",
        "arr = np.flip(arr)\n",
        "print(f\"Reversed array: {arr}\")"
      ],
      "metadata": {
        "colab": {
          "base_uri": "https://localhost:8080/"
        },
        "id": "NZ_UL58Ow8TZ",
        "outputId": "e7d84e54-c796-438d-ce46-8d2992a3c9fd"
      },
      "execution_count": null,
      "outputs": [
        {
          "output_type": "stream",
          "name": "stdout",
          "text": [
            "Original array: [1 2 3 6 4 5]\n",
            "Reversed array: [5 4 6 3 2 1]\n"
          ]
        }
      ]
    },
    {
      "cell_type": "markdown",
      "source": [
        "##### (b) Flatten the NumPy arr: array1 = np.array([[1, 2, 3], [2, 4, 5], [1, 2, 3]]) using any two NumPy in-built methods"
      ],
      "metadata": {
        "id": "Bx4EtFd8xMon"
      }
    },
    {
      "cell_type": "code",
      "source": [
        "# Using np.ndarray.flatten()\n",
        "array1 = np.array([[1, 2, 3], [2, 4, 5], [1, 2, 3]])\n",
        "print(\"Original array:-\")\n",
        "print(array1)\n",
        "\n",
        "array1 = array1.flatten()\n",
        "print(f\"Flattened array: {array1}\")"
      ],
      "metadata": {
        "colab": {
          "base_uri": "https://localhost:8080/"
        },
        "id": "RBZ5BsJQxk_k",
        "outputId": "a2f333f1-13f2-4f66-e4a3-3d43dcba5254"
      },
      "execution_count": null,
      "outputs": [
        {
          "output_type": "stream",
          "name": "stdout",
          "text": [
            "Original array:-\n",
            "[[1 2 3]\n",
            " [2 4 5]\n",
            " [1 2 3]]\n",
            "Flattened array: [1 2 3 2 4 5 1 2 3]\n"
          ]
        }
      ]
    },
    {
      "cell_type": "code",
      "source": [
        "# Using np.ndarray.reshape(-1) =>  When -1 is used as one of the dimensions in reshape, NumPy automatically calculates the appropriate size for that dimension\n",
        "array1 = np.array([[1, 2, 3], [2, 4, 5], [1, 2, 3]])\n",
        "print(\"Original array:-\")\n",
        "print(array1)\n",
        "\n",
        "array1 = array1.reshape(-1)\n",
        "print(f\"Reshaped array: {array1}\")"
      ],
      "metadata": {
        "colab": {
          "base_uri": "https://localhost:8080/"
        },
        "id": "I4ljPsOfx_JY",
        "outputId": "10b40a2c-7302-49fe-be56-c09937193349"
      },
      "execution_count": null,
      "outputs": [
        {
          "output_type": "stream",
          "name": "stdout",
          "text": [
            "Original array:-\n",
            "[[1 2 3]\n",
            " [2 4 5]\n",
            " [1 2 3]]\n",
            "Reshaped array: [1 2 3 2 4 5 1 2 3]\n"
          ]
        }
      ]
    },
    {
      "cell_type": "markdown",
      "source": [
        "##### (c) Compare the following numpy arrays:\n",
        "\n",
        "`arr1 = np.array([[1, 2], [3, 4]])`\n",
        "\n",
        "`arr2 = np.array([[1, 2], [3, 4]])`"
      ],
      "metadata": {
        "id": "QVkloOXRygYM"
      }
    },
    {
      "cell_type": "code",
      "source": [
        "arr1 = np.array([[1, 2], [3, 4]])\n",
        "arr2 = np.array([[1, 2], [3, 4]])\n",
        "\n",
        "print(f\"Are both arrays same:-\")\n",
        "print((arr1 == arr2).all())\n",
        "print(np.array_equal(arr1, arr2))"
      ],
      "metadata": {
        "colab": {
          "base_uri": "https://localhost:8080/"
        },
        "id": "E_pDSnsRymwb",
        "outputId": "9ab851bc-8508-4ebf-cbb1-d80efdf7ba67"
      },
      "execution_count": null,
      "outputs": [
        {
          "output_type": "stream",
          "name": "stdout",
          "text": [
            "Are both arrays same:-\n",
            "True\n",
            "True\n"
          ]
        }
      ]
    },
    {
      "cell_type": "markdown",
      "source": [
        "##### (d) Find the most frequent value and their indice(s) in the following arrays:\n",
        "i. `x = np.array([1,2,3,4,5,1,2,1,1,1])`\n",
        "\n",
        "ii. `y = np.array([1, 1, 1, 2, 3, 4, 2, 4, 3, 3, ])`"
      ],
      "metadata": {
        "id": "RageuPRwyz1J"
      }
    },
    {
      "cell_type": "code",
      "source": [
        "def calculate_mode(arr: np.ndarray):\n",
        "  unique_vals, counts = np.unique(arr, return_counts=True)\n",
        "  mode_indices = np.where(counts == counts.max())\n",
        "  return unique_vals[mode_indices].tolist()"
      ],
      "metadata": {
        "id": "fk3YrUXN0xmY"
      },
      "execution_count": null,
      "outputs": []
    },
    {
      "cell_type": "code",
      "source": [
        "x = np.array([1,2,3,4,5,1,2,1,1,1])\n",
        "print(f\"x = {x}\")\n",
        "print(f\"Mode(s) of x = {''.join(calculate_mode(x))}\")\n",
        "\n",
        "y = np.array([1, 1, 1, 2, 3, 4, 2, 4, 3, 3, ])\n",
        "print(f\"y = {y}\")\n",
        "print(f\"Mode(s) of y = {''.join(calculate_mode(y))}\")"
      ],
      "metadata": {
        "colab": {
          "base_uri": "https://localhost:8080/"
        },
        "id": "8lPLksFnzmgr",
        "outputId": "babd4314-e019-4819-d416-3faf7c9ed1ef"
      },
      "execution_count": null,
      "outputs": [
        {
          "output_type": "stream",
          "name": "stdout",
          "text": [
            "x = [1 2 3 4 5 1 2 1 1 1]\n",
            "Mode(s) of x = [ 1 ]\n",
            "y = [1 1 1 2 3 4 2 4 3 3]\n",
            "Mode(s) of y = [ 1 ,   3 ]\n"
          ]
        }
      ]
    },
    {
      "cell_type": "code",
      "source": [],
      "metadata": {
        "id": "0fR5Tmoo0w3t"
      },
      "execution_count": null,
      "outputs": []
    }
  ]
}