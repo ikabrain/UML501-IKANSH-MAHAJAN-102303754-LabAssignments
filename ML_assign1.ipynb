{
  "nbformat": 4,
  "nbformat_minor": 0,
  "metadata": {
    "colab": {
      "provenance": [],
      "authorship_tag": "ABX9TyOvOILaTsX2vwD/Ik0jfNlV",
      "include_colab_link": true
    },
    "kernelspec": {
      "name": "python3",
      "display_name": "Python 3"
    },
    "language_info": {
      "name": "python"
    }
  },
  "cells": [
    {
      "cell_type": "markdown",
      "metadata": {
        "id": "view-in-github",
        "colab_type": "text"
      },
      "source": [
        "<a href=\"https://colab.research.google.com/github/ikabrain/UML501-IKANSH-MAHAJAN-102303754-LabAssignments/blob/main/ML_assign1.ipynb\" target=\"_parent\"><img src=\"https://colab.research.google.com/assets/colab-badge.svg\" alt=\"Open In Colab\"/></a>"
      ]
    },
    {
      "cell_type": "markdown",
      "source": [
        "# Assignment - 1 (Based on NumPy)\n",
        "---"
      ],
      "metadata": {
        "id": "mJTMMB-r1g0f"
      }
    },
    {
      "cell_type": "code",
      "source": [
        "import numpy as np"
      ],
      "metadata": {
        "id": "Vcs1qysvxAzX"
      },
      "execution_count": 1,
      "outputs": []
    },
    {
      "cell_type": "markdown",
      "source": [
        "---\n",
        "#### Q1. Questions on Basic NumPy Array"
      ],
      "metadata": {
        "id": "1KhIVz2zwzGE"
      }
    },
    {
      "cell_type": "markdown",
      "source": [
        "##### (a) Reverse the NumPy array: arr = np.array([1, 2, 3, 6, 4, 5])"
      ],
      "metadata": {
        "id": "Kv_ceMXcw3NW"
      }
    },
    {
      "cell_type": "code",
      "source": [
        "arr = np.array([1, 2, 3, 6, 4, 5])\n",
        "print(f\"Original array: {arr}\")\n",
        "\n",
        "arr = np.flip(arr)\n",
        "print(f\"Reversed array: {arr}\")"
      ],
      "metadata": {
        "colab": {
          "base_uri": "https://localhost:8080/"
        },
        "id": "NZ_UL58Ow8TZ",
        "outputId": "f5026198-8de5-4ef8-eae3-75ea4765761a"
      },
      "execution_count": 2,
      "outputs": [
        {
          "output_type": "stream",
          "name": "stdout",
          "text": [
            "Original array: [1 2 3 6 4 5]\n",
            "Reversed array: [5 4 6 3 2 1]\n"
          ]
        }
      ]
    },
    {
      "cell_type": "markdown",
      "source": [
        "##### (b) Flatten the NumPy arr: array1 = np.array([[1, 2, 3], [2, 4, 5], [1, 2, 3]]) using any two NumPy in-built methods"
      ],
      "metadata": {
        "id": "Bx4EtFd8xMon"
      }
    },
    {
      "cell_type": "code",
      "source": [
        "# Using np.ndarray.flatten()\n",
        "array1 = np.array([[1, 2, 3], [2, 4, 5], [1, 2, 3]])\n",
        "print(\"Original array:-\")\n",
        "print(array1)\n",
        "\n",
        "array1 = array1.flatten()\n",
        "print(f\"Flattened array: {array1}\")"
      ],
      "metadata": {
        "colab": {
          "base_uri": "https://localhost:8080/"
        },
        "id": "RBZ5BsJQxk_k",
        "outputId": "328d24b3-ae31-4909-cade-d749012d5d70"
      },
      "execution_count": 3,
      "outputs": [
        {
          "output_type": "stream",
          "name": "stdout",
          "text": [
            "Original array:-\n",
            "[[1 2 3]\n",
            " [2 4 5]\n",
            " [1 2 3]]\n",
            "Flattened array: [1 2 3 2 4 5 1 2 3]\n"
          ]
        }
      ]
    },
    {
      "cell_type": "code",
      "source": [
        "# Using np.ndarray.reshape(-1) =>  When -1 is used as one of the dimensions in reshape, NumPy automatically calculates the appropriate size for that dimension\n",
        "array1 = np.array([[1, 2, 3], [2, 4, 5], [1, 2, 3]])\n",
        "print(\"Original array:-\")\n",
        "print(array1)\n",
        "\n",
        "array1 = array1.reshape(-1)\n",
        "print(f\"Reshaped array: {array1}\")"
      ],
      "metadata": {
        "colab": {
          "base_uri": "https://localhost:8080/"
        },
        "id": "I4ljPsOfx_JY",
        "outputId": "e5ccf1e9-e9f3-43fa-8cce-cbe1faaa0456"
      },
      "execution_count": 4,
      "outputs": [
        {
          "output_type": "stream",
          "name": "stdout",
          "text": [
            "Original array:-\n",
            "[[1 2 3]\n",
            " [2 4 5]\n",
            " [1 2 3]]\n",
            "Reshaped array: [1 2 3 2 4 5 1 2 3]\n"
          ]
        }
      ]
    },
    {
      "cell_type": "markdown",
      "source": [
        "##### (c) Compare the following numpy arrays:\n",
        "\n",
        "`arr1 = np.array([[1, 2], [3, 4]])`\n",
        "\n",
        "`arr2 = np.array([[1, 2], [3, 4]])`"
      ],
      "metadata": {
        "id": "QVkloOXRygYM"
      }
    },
    {
      "cell_type": "code",
      "source": [
        "arr1 = np.array([[1, 2], [3, 4]])\n",
        "arr2 = np.array([[1, 2], [3, 4]])\n",
        "\n",
        "print(f\"Are both arrays same:-\")\n",
        "print((arr1 == arr2).all())\n",
        "print(np.array_equal(arr1, arr2))"
      ],
      "metadata": {
        "colab": {
          "base_uri": "https://localhost:8080/"
        },
        "id": "E_pDSnsRymwb",
        "outputId": "72a77996-11a8-479a-8330-1f4aa9806850"
      },
      "execution_count": 5,
      "outputs": [
        {
          "output_type": "stream",
          "name": "stdout",
          "text": [
            "Are both arrays same:-\n",
            "True\n",
            "True\n"
          ]
        }
      ]
    },
    {
      "cell_type": "markdown",
      "source": [
        "##### (d) Find the most frequent value and their indice(s) in the following arrays:\n",
        "i. `x = np.array([1,2,3,4,5,1,2,1,1,1])`\n",
        "\n",
        "ii. `y = np.array([1, 1, 1, 2, 3, 4, 2, 4, 3, 3, ])`"
      ],
      "metadata": {
        "id": "RageuPRwyz1J"
      }
    },
    {
      "cell_type": "code",
      "source": [
        "def calculate_mode(arr: np.ndarray):\n",
        "  unique_vals, counts = np.unique(arr, return_counts=True)\n",
        "  mode_indices = np.where(counts == counts.max())\n",
        "  return unique_vals[mode_indices].tolist()"
      ],
      "metadata": {
        "id": "fk3YrUXN0xmY"
      },
      "execution_count": 6,
      "outputs": []
    },
    {
      "cell_type": "code",
      "source": [
        "x = np.array([1,2,3,4,5,1,2,1,1,1])\n",
        "print(f\"x = {x}\")\n",
        "print(f\"Mode(s) of x = {calculate_mode(x)}\")\n",
        "\n",
        "y = np.array([1, 1, 1, 2, 3, 4, 2, 4, 3, 3, ])\n",
        "print(f\"y = {y}\")\n",
        "print(f\"Mode(s) of y = {calculate_mode(y)}\")"
      ],
      "metadata": {
        "colab": {
          "base_uri": "https://localhost:8080/"
        },
        "id": "8lPLksFnzmgr",
        "outputId": "74a0325d-d7d5-4bb2-95d5-aa1ba1be44bf"
      },
      "execution_count": 7,
      "outputs": [
        {
          "output_type": "stream",
          "name": "stdout",
          "text": [
            "x = [1 2 3 4 5 1 2 1 1 1]\n",
            "Mode(s) of x = [1]\n",
            "y = [1 1 1 2 3 4 2 4 3 3]\n",
            "Mode(s) of y = [1, 3]\n"
          ]
        }
      ]
    },
    {
      "cell_type": "markdown",
      "source": [
        "##### (e) For the array `gfg = np.matrix('[4, 1, 9; 12, 3, 1; 4, 5, 6]')`\n",
        "Find\n",
        "\n",
        "i. Sum of all elements\n",
        "\n",
        "ii. Sum of all elements row-wise\n",
        "\n",
        "iii. Sum of all elements column-wise"
      ],
      "metadata": {
        "id": "0fR5Tmoo0w3t"
      }
    },
    {
      "cell_type": "code",
      "source": [
        "gfg = np.matrix('[4, 1, 9; 12, 3, 1; 4, 5, 6]')\n",
        "\n",
        "print(\"Matrix:-\")\n",
        "print(gfg, end=\"\\n\\n\")\n",
        "\n",
        "# i. Sum of all elements\n",
        "s = gfg.sum()\n",
        "print(f\"Sum of all elements = {s}\\n\")\n",
        "\n",
        "# ii. Row-wise sum\n",
        "s1 = gfg.sum(axis=1).flatten().tolist()[0]\n",
        "for i, row in enumerate(s1, start=1):\n",
        "    print(f\"Sum of row {i} = {row}\")\n",
        "\n",
        "print()\n",
        "\n",
        "# iii. Col-wise sum\n",
        "s2 = gfg.sum(axis=0).flatten().tolist()[0]\n",
        "for j, col in enumerate(s2, start=1):\n",
        "    print(f\"Sum of column {j} = {col}\")"
      ],
      "metadata": {
        "colab": {
          "base_uri": "https://localhost:8080/"
        },
        "id": "9a9anpBJSp8p",
        "outputId": "22e19f35-8476-40aa-fdb3-107fce83df92"
      },
      "execution_count": 8,
      "outputs": [
        {
          "output_type": "stream",
          "name": "stdout",
          "text": [
            "Matrix:-\n",
            "[[ 4  1  9]\n",
            " [12  3  1]\n",
            " [ 4  5  6]]\n",
            "\n",
            "Sum of all elements = 45\n",
            "\n",
            "Sum of row 1 = 14\n",
            "Sum of row 2 = 16\n",
            "Sum of row 3 = 15\n",
            "\n",
            "Sum of column 1 = 20\n",
            "Sum of column 2 = 9\n",
            "Sum of column 3 = 16\n"
          ]
        }
      ]
    },
    {
      "cell_type": "markdown",
      "source": [
        "##### (f) For the matrix: `n_array = np.array([[55, 25, 15],[30, 44, 2],[11, 45, 77]])`, find\n",
        "\n",
        "i. Sum of diagonal elements\n",
        "\n",
        "ii. Eigen values of matrix\n",
        "\n",
        "iii. Eigen vectors of matrix\n",
        "\n",
        "iv. Inverse of matrix\n",
        "\n",
        "v. Determinant of matrix"
      ],
      "metadata": {
        "id": "oCvIJSPzdhNm"
      }
    },
    {
      "cell_type": "code",
      "source": [
        "n_array = np.array([[55, 25, 15],[30, 44, 2],[11, 45, 77]])\n",
        "print(f\"Array:-\\n{n_array}\\n\")\n",
        "\n",
        "# i. Sum of diagonal elements\n",
        "diag = np.trace(n_array)\n",
        "print(f\"Sum of main diagonal elements = {diag}\\n\")\n",
        "\n",
        "# ii. Eigenvalues of matrix A => Solutions of det(A - xI) = 0\n",
        "# iii. Eigenvectors of mtrx A => Solutions of Ax = lx\n",
        "evals, evects = np.linalg.eig(n_array)\n",
        "print(f\"Eigenvalues = {', '.join(np.round(evals, decimals=4).astype(str))}\")\n",
        "print(f\"Eigenvectors:-\")\n",
        "for i in evects:\n",
        "    print(\"[\", end=\"\")\n",
        "    for j in i:\n",
        "        print(j.round(decimals=4), end=\", \") if (j != i[-1]) else print(j.round(decimals=4), end=\"]\\n\")\n",
        "print()\n",
        "\n",
        "# iv. Inverse of matrix = adj(A) / det(A)\n",
        "n_inv = np.linalg.inv(n_array)\n",
        "print(f\"Inverse:-\\n{n_inv.round(decimals=4)}\\n\")\n",
        "\n",
        "# v. Determinant of matrix\n",
        "n_det = np.linalg.det(n_array)\n",
        "print(f\"Determinant = {n_det:.4f}\")"
      ],
      "metadata": {
        "colab": {
          "base_uri": "https://localhost:8080/"
        },
        "id": "f8Rpudqgfx7E",
        "outputId": "914bc29b-7ae9-47d9-eec6-791ef3475705"
      },
      "execution_count": 9,
      "outputs": [
        {
          "output_type": "stream",
          "name": "stdout",
          "text": [
            "Array:-\n",
            "[[55 25 15]\n",
            " [30 44  2]\n",
            " [11 45 77]]\n",
            "\n",
            "Sum of main diagonal elements = 176\n",
            "\n",
            "Eigenvalues = 98.1684, 28.097, 49.7346\n",
            "Eigenvectors:-\n",
            "[0.4575, 0.3464, -0.1502]\n",
            "[0.2845, -0.7278, -0.4852]\n",
            "[0.8425, 0.5918, 0.8614]\n",
            "\n",
            "Inverse:-\n",
            "[[ 0.024  -0.0091 -0.0044]\n",
            " [-0.0167  0.0297  0.0025]\n",
            " [ 0.0063 -0.016   0.0122]]\n",
            "\n",
            "Determinant = 137180.0000\n"
          ]
        }
      ]
    },
    {
      "cell_type": "markdown",
      "source": [
        "##### (g) Multiply the following matrices and also find covariance between matrices using NumPy:"
      ],
      "metadata": {
        "id": "KKCxKug29Ce4"
      }
    },
    {
      "cell_type": "markdown",
      "source": [
        "###### i.\n",
        "```\n",
        "p = [[1, 2], [2, 3]]\n",
        "q = [[4, 5], [6, 7]]\n",
        "```"
      ],
      "metadata": {
        "id": "g07mdRu09rFE"
      }
    },
    {
      "cell_type": "code",
      "source": [
        "p = np.array([[1, 2], [2, 3]])\n",
        "q = np.array([[4, 5], [6, 7]])\n",
        "print(f\"p = \\n{p}\\n\")\n",
        "print(f\"q = \\n{q}\\n\")\n",
        "\n",
        "# Matrix mult\n",
        "prod = p @ q\n",
        "print(f\"Matrix product p × q = \\n{prod}\\n\")\n",
        "\n",
        "# Covariance\n",
        "cov = np.cov(p, q)\n",
        "print(f\"Covariance between rows of p & q = \\n{cov}\")"
      ],
      "metadata": {
        "colab": {
          "base_uri": "https://localhost:8080/"
        },
        "id": "fMkR5_jU9ynP",
        "outputId": "25e84761-4eb4-49ef-8866-6befe5bdbb1a"
      },
      "execution_count": 13,
      "outputs": [
        {
          "output_type": "stream",
          "name": "stdout",
          "text": [
            "p = \n",
            "[[1 2]\n",
            " [2 3]]\n",
            "\n",
            "q = \n",
            "[[4 5]\n",
            " [6 7]]\n",
            "\n",
            "Matrix product p × q = \n",
            "[[16 19]\n",
            " [26 31]]\n",
            "\n",
            "Covariance between rows of p & q = \n",
            "[[0.5 0.5 0.5 0.5]\n",
            " [0.5 0.5 0.5 0.5]\n",
            " [0.5 0.5 0.5 0.5]\n",
            " [0.5 0.5 0.5 0.5]]\n"
          ]
        }
      ]
    },
    {
      "cell_type": "markdown",
      "source": [
        "###### ii.\n",
        "```\n",
        "p = [[1, 2], [2, 3], [4, 5]]\n",
        "q = [[4, 5, 1], [6, 7, 2]]\n",
        "```"
      ],
      "metadata": {
        "id": "lABuh2HuyBDy"
      }
    },
    {
      "cell_type": "code",
      "source": [
        "p = np.array([[1, 2], [2, 3], [4, 5]])\n",
        "q = np.array([[4, 5, 1], [6, 7, 2]])\n",
        "print(f\"p = \\n{p}\\n\")\n",
        "print(f\"q = \\n{q}\\n\")\n",
        "\n",
        "# Matrix mult\n",
        "prod = p @ q\n",
        "print(f\"Matrix product p × q = \\n{prod}\\n\")\n",
        "\n",
        "# Covariance\n",
        "cov = np.cov(p, q.T)\n",
        "print(f\"Covariance between rows of p & q = \\n{cov}\")"
      ],
      "metadata": {
        "colab": {
          "base_uri": "https://localhost:8080/"
        },
        "id": "6Ey2Rl5xyHRv",
        "outputId": "5ac05e72-fbe0-4e1f-f6ee-2d8f9eaf507b"
      },
      "execution_count": 16,
      "outputs": [
        {
          "output_type": "stream",
          "name": "stdout",
          "text": [
            "p = \n",
            "[[1 2]\n",
            " [2 3]\n",
            " [4 5]]\n",
            "\n",
            "q = \n",
            "[[4 5 1]\n",
            " [6 7 2]]\n",
            "\n",
            "Matrix product p × q = \n",
            "[[16 19  5]\n",
            " [26 31  8]\n",
            " [46 55 14]]\n",
            "\n",
            "Covariance between rows of p & q = \n",
            "[[0.5 0.5 0.5 1.  1.  0.5]\n",
            " [0.5 0.5 0.5 1.  1.  0.5]\n",
            " [0.5 0.5 0.5 1.  1.  0.5]\n",
            " [1.  1.  1.  2.  2.  1. ]\n",
            " [1.  1.  1.  2.  2.  1. ]\n",
            " [0.5 0.5 0.5 1.  1.  0.5]]\n"
          ]
        }
      ]
    },
    {
      "cell_type": "markdown",
      "source": [
        "##### (h) For the matrices: `x = np.array([[2, 3, 4], [3, 2, 9]])` ; `y = np.array([[1, 5, 0], [5, 10, 3]])`, find inner, outer and cartesian product?"
      ],
      "metadata": {
        "id": "L9c6PiJmyvcu"
      }
    },
    {
      "cell_type": "code",
      "source": [
        "x = np.array([[2, 3, 4], [3, 2, 9]])\n",
        "y = np.array([[1, 5, 0], [5, 10, 3]])\n",
        "print(f\"x = \\n{x}\\n\")\n",
        "print(f\"y = \\n{y}\\n\")\n",
        "\n",
        "# Inner/Row-wise Dot product <A, B> = ∑(from i=1 to m)∑(from j=1 to n)(Aᵢⱼ * Bᵢⱼ) = trace(AᵀB)\n",
        "inner_prod = np.inner(x, y)\n",
        "print(f\"<x, y> = \\n{inner_prod}\\n\")\n",
        "\n",
        "# Outer/Cross product A ⊗ B = taking each element of A, multiplying it by entire B, then stacking them together = trace(ABᵀ)\n",
        "outer_prod = np.outer(x, y)\n",
        "print(f\"x ⊗ y = \\n{outer_prod}\\n\")\n",
        "\n",
        "# Cartesian product = all pairwise combinations of elements from x and y\n",
        "from itertools import product\n",
        "cartes_prod = np.array(list(product(x.flatten(), y.flatten())))\n",
        "print(f\"Cartesian product of {{x, y}} = \\n{cartes_prod}\\n\")"
      ],
      "metadata": {
        "colab": {
          "base_uri": "https://localhost:8080/"
        },
        "id": "zPZp6FRIy5N7",
        "outputId": "64c02a16-1d5d-43aa-b1d3-965d900ead18"
      },
      "execution_count": 34,
      "outputs": [
        {
          "output_type": "stream",
          "name": "stdout",
          "text": [
            "x = \n",
            "[[2 3 4]\n",
            " [3 2 9]]\n",
            "\n",
            "y = \n",
            "[[ 1  5  0]\n",
            " [ 5 10  3]]\n",
            "\n",
            "<x, y> = \n",
            "[[17 52]\n",
            " [13 62]]\n",
            "\n",
            "x ⊗ y = \n",
            "[[ 2 10  0 10 20  6]\n",
            " [ 3 15  0 15 30  9]\n",
            " [ 4 20  0 20 40 12]\n",
            " [ 3 15  0 15 30  9]\n",
            " [ 2 10  0 10 20  6]\n",
            " [ 9 45  0 45 90 27]]\n",
            "\n",
            "Cartesian product of {x, y} = \n",
            "[[ 2  1]\n",
            " [ 2  5]\n",
            " [ 2  0]\n",
            " [ 2  5]\n",
            " [ 2 10]\n",
            " [ 2  3]\n",
            " [ 3  1]\n",
            " [ 3  5]\n",
            " [ 3  0]\n",
            " [ 3  5]\n",
            " [ 3 10]\n",
            " [ 3  3]\n",
            " [ 4  1]\n",
            " [ 4  5]\n",
            " [ 4  0]\n",
            " [ 4  5]\n",
            " [ 4 10]\n",
            " [ 4  3]\n",
            " [ 3  1]\n",
            " [ 3  5]\n",
            " [ 3  0]\n",
            " [ 3  5]\n",
            " [ 3 10]\n",
            " [ 3  3]\n",
            " [ 2  1]\n",
            " [ 2  5]\n",
            " [ 2  0]\n",
            " [ 2  5]\n",
            " [ 2 10]\n",
            " [ 2  3]\n",
            " [ 9  1]\n",
            " [ 9  5]\n",
            " [ 9  0]\n",
            " [ 9  5]\n",
            " [ 9 10]\n",
            " [ 9  3]]\n",
            "\n"
          ]
        }
      ]
    },
    {
      "cell_type": "markdown",
      "source": [
        "---\n",
        "#### Q2. Based on NumPy Mathematics and Statistics"
      ],
      "metadata": {
        "id": "VV5HBs-1_vqb"
      }
    },
    {
      "cell_type": "markdown",
      "source": [
        "##### (a) For the array: `array = np.array([[1, -2, 3],[-4, 5, -6]])`\n"
      ],
      "metadata": {
        "id": "SzJ5491b_1NA"
      }
    },
    {
      "cell_type": "code",
      "source": [
        "array = np.array([[1, -2, 3], [-4, 5, -6]])"
      ],
      "metadata": {
        "id": "K6UHERq2AJcY"
      },
      "execution_count": 35,
      "outputs": []
    },
    {
      "cell_type": "markdown",
      "source": [
        "###### (i) Find element-wise absolute value\n"
      ],
      "metadata": {
        "id": "JUqxwwLr_-0M"
      }
    },
    {
      "cell_type": "code",
      "source": [
        "np.abs(array)"
      ],
      "metadata": {
        "colab": {
          "base_uri": "https://localhost:8080/"
        },
        "id": "NfGopfNCAI1j",
        "outputId": "356bcf9e-700b-471b-c028-b0c8e3582613"
      },
      "execution_count": 62,
      "outputs": [
        {
          "output_type": "execute_result",
          "data": {
            "text/plain": [
              "array([[1, 2, 3],\n",
              "       [4, 5, 6]])"
            ]
          },
          "metadata": {},
          "execution_count": 62
        }
      ]
    },
    {
      "cell_type": "markdown",
      "source": [
        "###### (ii) Find the 25th, 50th, and 75th percentile of flattened array, for each column, for each row."
      ],
      "metadata": {
        "id": "zoJMGWkcAYmG"
      }
    },
    {
      "cell_type": "code",
      "source": [
        "percentiles = np.array([25, 50, 75])\n",
        "\n",
        "# For flattened array\n",
        "qtile1 = np.quantile(array.flatten(), percentiles/100)\n",
        "for i in range(len(percentiles)):\n",
        "    print(f\"{percentiles[i]}th percentile of entire matrix = {qtile1[i]:8.2f}\")\n",
        "print()\n",
        "\n",
        "# For each column, axis=0\n",
        "qtile2 = np.quantile(array, percentiles/100, axis=0)\n",
        "for i in range(len(percentiles)):\n",
        "    for j in range(array.shape[1]):\n",
        "        print(f\"{percentiles[i]}th percentile of col {j+1} = {qtile2[i][j]:8.2f}\")\n",
        "print()\n",
        "\n",
        "# For each row, axis=1\n",
        "qtile3 = np.quantile(array, percentiles/100, axis=1)\n",
        "for i in range(len(percentiles)):\n",
        "    for j in range(array.shape[0]):\n",
        "        print(f\"{percentiles[i]}th percentile of row {j+1} = {qtile3[i][j]:5.2f}\")\n",
        "print()"
      ],
      "metadata": {
        "colab": {
          "base_uri": "https://localhost:8080/"
        },
        "id": "PzIN6N9fAhpI",
        "outputId": "d1332c09-ae51-4504-9588-729f61d28e12"
      },
      "execution_count": 88,
      "outputs": [
        {
          "output_type": "stream",
          "name": "stdout",
          "text": [
            "25th percentile of entire matrix =    -3.50\n",
            "50th percentile of entire matrix =    -0.50\n",
            "75th percentile of entire matrix =     2.50\n",
            "\n",
            "25th percentile of col 1 =    -2.75\n",
            "25th percentile of col 2 =    -0.25\n",
            "25th percentile of col 3 =    -3.75\n",
            "50th percentile of col 1 =    -1.50\n",
            "50th percentile of col 2 =     1.50\n",
            "50th percentile of col 3 =    -1.50\n",
            "75th percentile of col 1 =    -0.25\n",
            "75th percentile of col 2 =     3.25\n",
            "75th percentile of col 3 =     0.75\n",
            "\n",
            "25th percentile of row 1 = -0.50\n",
            "25th percentile of row 2 = -5.00\n",
            "50th percentile of row 1 =  1.00\n",
            "50th percentile of row 2 = -4.00\n",
            "75th percentile of row 1 =  2.00\n",
            "75th percentile of row 2 =  0.50\n",
            "\n"
          ]
        }
      ]
    },
    {
      "cell_type": "markdown",
      "source": [
        "###### (iii) Mean, Median and Standard Deviation of flattened array, of each column, and each row"
      ],
      "metadata": {
        "id": "kkjOdv_gEkFQ"
      }
    },
    {
      "cell_type": "code",
      "source": [
        "# For flatenned array\n",
        "mean1 = array.flatten().mean()\n",
        "med1 = np.median(array.flatten())\n",
        "sd1 = array.flatten().std()\n",
        "print(f\"Mean of entire matrix = {mean1:20.2f}\")\n",
        "print(f\"Median of entire matrix = {med1:18.2f}\")\n",
        "print(f\"Standard Deviation of entire matrix = {sd1:6.2f}\\n\")\n",
        "print(\"-\"*100)\n",
        "\n",
        "# For each column, axis=0\n",
        "mean2 = array.mean(axis=0)\n",
        "med2 = np.median(array, axis=0)\n",
        "sd2 = array.std(axis=0)\n",
        "for i in range(array.shape[1]):\n",
        "    print(f\"Mean of col {i} = {mean2[i]:20.2f}\")\n",
        "    print(f\"Median of col {i} = {med2[i]:18.2f}\")\n",
        "    print(f\"Standard Deviation of col {i} = {sd2[i]:6.2f}\")\n",
        "    print()\n",
        "print(\"-\"*100)\n",
        "\n",
        "# For each row, axis=1\n",
        "mean3 = array.mean(axis=1)\n",
        "med3 = np.median(array, axis=1)\n",
        "sd3 = array.std(axis=1)\n",
        "for i in range(array.shape[0]):\n",
        "    print(f\"Mean of row {i} = {mean3[i]:23.2f}\")\n",
        "    print(f\"Median of row {i} = {med3[i]:21.2f}\")\n",
        "    print(f\"Standard Deviation of row {i} = {sd3[i]:9.2f}\")\n",
        "    print()\n",
        "print(\"-\"*100)"
      ],
      "metadata": {
        "colab": {
          "base_uri": "https://localhost:8080/"
        },
        "id": "5g_MgdY4EqvJ",
        "outputId": "3178ad9f-891f-4a1f-8f1b-44b4ddad894a"
      },
      "execution_count": 111,
      "outputs": [
        {
          "output_type": "stream",
          "name": "stdout",
          "text": [
            "Mean of entire matrix =                -0.50\n",
            "Median of entire matrix =              -0.50\n",
            "Standard Deviation of entire matrix =   3.86\n",
            "\n",
            "----------------------------------------------------------------------------------------------------\n",
            "Mean of col 0 =                -1.50\n",
            "Median of col 0 =              -1.50\n",
            "Standard Deviation of col 0 =   2.50\n",
            "\n",
            "Mean of col 1 =                 1.50\n",
            "Median of col 1 =               1.50\n",
            "Standard Deviation of col 1 =   3.50\n",
            "\n",
            "Mean of col 2 =                -1.50\n",
            "Median of col 2 =              -1.50\n",
            "Standard Deviation of col 2 =   4.50\n",
            "\n",
            "----------------------------------------------------------------------------------------------------\n",
            "Mean of row 0 =                    0.67\n",
            "Median of row 0 =                  1.00\n",
            "Standard Deviation of row 0 =      2.05\n",
            "\n",
            "Mean of row 1 =                   -1.67\n",
            "Median of row 1 =                 -4.00\n",
            "Standard Deviation of row 1 =      4.78\n",
            "\n",
            "----------------------------------------------------------------------------------------------------\n"
          ]
        }
      ]
    },
    {
      "cell_type": "markdown",
      "source": [
        "##### (b) For the array: `a = np.array([-1.8, -1.6, -0.5, 0.5,1.6, 1.8, 3.0])`. Find floor, ceiling and truncated value, rounded values."
      ],
      "metadata": {
        "id": "PvhnKFSaHI6j"
      }
    },
    {
      "cell_type": "code",
      "source": [
        "a = np.array([-1.8, -1.6, -0.5, 0.5, 1.6, 1.8, 3.0])\n",
        "print(f\"Original array: \\n{a.tolist()}\\n\")\n",
        "\n",
        "# Floor: Largest integer less than or equal to the value\n",
        "floor_vals = np.floor(a)\n",
        "print(f\"Floor values: \\n{floor_vals.tolist()}\\n\")\n",
        "\n",
        "# Ceiling: Smallest integer greater than or equal to the value\n",
        "ceil_vals = np.ceil(a)\n",
        "print(f\"Ceiling values: \\n{ceil_vals.tolist()}\\n\")\n",
        "\n",
        "# Truncated: Remove fractional part towards zero (same as int() in Python)\n",
        "trunc_vals = np.trunc(a)\n",
        "print(f\"Truncated values: \\n{trunc_vals.tolist()}\\n\")\n",
        "\n",
        "# Rounded: Rounds to nearest integer, half to even (banker’s rounding)\n",
        "round_vals = np.round(a)\n",
        "print(f\"Rounded values: \\n{round_vals.tolist()}\\n\")"
      ],
      "metadata": {
        "colab": {
          "base_uri": "https://localhost:8080/"
        },
        "id": "NBSg59g-IGfn",
        "outputId": "d091e7a0-a9ae-4e94-9002-128b897e1d96"
      },
      "execution_count": 113,
      "outputs": [
        {
          "output_type": "stream",
          "name": "stdout",
          "text": [
            "Original array: \n",
            "[-1.8, -1.6, -0.5, 0.5, 1.6, 1.8, 3.0]\n",
            "\n",
            "Floor values: \n",
            "[-2.0, -2.0, -1.0, 0.0, 1.0, 1.0, 3.0]\n",
            "\n",
            "Ceiling values: \n",
            "[-1.0, -1.0, -0.0, 1.0, 2.0, 2.0, 3.0]\n",
            "\n",
            "Truncated values: \n",
            "[-1.0, -1.0, -0.0, 0.0, 1.0, 1.0, 3.0]\n",
            "\n",
            "Rounded values: \n",
            "[-2.0, -2.0, -0.0, 0.0, 2.0, 2.0, 3.0]\n",
            "\n"
          ]
        }
      ]
    },
    {
      "cell_type": "markdown",
      "source": [
        "---\n",
        "#### Q3: Based on Searching and Sorting"
      ],
      "metadata": {
        "id": "Fd75es1sIp1Y"
      }
    }
  ]
}