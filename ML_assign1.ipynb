{
  "nbformat": 4,
  "nbformat_minor": 0,
  "metadata": {
    "colab": {
      "provenance": [],
      "authorship_tag": "ABX9TyOP29kHRbAkuQwAMyEs0Jqv",
      "include_colab_link": true
    },
    "kernelspec": {
      "name": "python3",
      "display_name": "Python 3"
    },
    "language_info": {
      "name": "python"
    }
  },
  "cells": [
    {
      "cell_type": "markdown",
      "metadata": {
        "id": "view-in-github",
        "colab_type": "text"
      },
      "source": [
        "<a href=\"https://colab.research.google.com/github/ikabrain/UML501-IKANSH-MAHAJAN-102303754-LabAssignments/blob/main/ML_assign1.ipynb\" target=\"_parent\"><img src=\"https://colab.research.google.com/assets/colab-badge.svg\" alt=\"Open In Colab\"/></a>"
      ]
    },
    {
      "cell_type": "markdown",
      "source": [
        "# Assignment - 1 (Based on NumPy)\n",
        "---"
      ],
      "metadata": {
        "id": "mJTMMB-r1g0f"
      }
    },
    {
      "cell_type": "code",
      "source": [
        "import numpy as np"
      ],
      "metadata": {
        "id": "Vcs1qysvxAzX"
      },
      "execution_count": null,
      "outputs": []
    },
    {
      "cell_type": "markdown",
      "source": [
        "#### Q1. Questions on Basic NumPy Array"
      ],
      "metadata": {
        "id": "1KhIVz2zwzGE"
      }
    },
    {
      "cell_type": "markdown",
      "source": [
        "##### (a) Reverse the NumPy array: arr = np.array([1, 2, 3, 6, 4, 5])"
      ],
      "metadata": {
        "id": "Kv_ceMXcw3NW"
      }
    },
    {
      "cell_type": "code",
      "source": [
        "arr = np.array([1, 2, 3, 6, 4, 5])\n",
        "print(f\"Original array: {arr}\")\n",
        "\n",
        "arr = np.flip(arr)\n",
        "print(f\"Reversed array: {arr}\")"
      ],
      "metadata": {
        "colab": {
          "base_uri": "https://localhost:8080/"
        },
        "id": "NZ_UL58Ow8TZ",
        "outputId": "e7d84e54-c796-438d-ce46-8d2992a3c9fd"
      },
      "execution_count": null,
      "outputs": [
        {
          "output_type": "stream",
          "name": "stdout",
          "text": [
            "Original array: [1 2 3 6 4 5]\n",
            "Reversed array: [5 4 6 3 2 1]\n"
          ]
        }
      ]
    },
    {
      "cell_type": "markdown",
      "source": [
        "##### (b) Flatten the NumPy arr: array1 = np.array([[1, 2, 3], [2, 4, 5], [1, 2, 3]]) using any two NumPy in-built methods"
      ],
      "metadata": {
        "id": "Bx4EtFd8xMon"
      }
    },
    {
      "cell_type": "code",
      "source": [
        "# Using np.ndarray.flatten()\n",
        "array1 = np.array([[1, 2, 3], [2, 4, 5], [1, 2, 3]])\n",
        "print(\"Original array:-\")\n",
        "print(array1)\n",
        "\n",
        "array1 = array1.flatten()\n",
        "print(f\"Flattened array: {array1}\")"
      ],
      "metadata": {
        "colab": {
          "base_uri": "https://localhost:8080/"
        },
        "id": "RBZ5BsJQxk_k",
        "outputId": "a2f333f1-13f2-4f66-e4a3-3d43dcba5254"
      },
      "execution_count": null,
      "outputs": [
        {
          "output_type": "stream",
          "name": "stdout",
          "text": [
            "Original array:-\n",
            "[[1 2 3]\n",
            " [2 4 5]\n",
            " [1 2 3]]\n",
            "Flattened array: [1 2 3 2 4 5 1 2 3]\n"
          ]
        }
      ]
    },
    {
      "cell_type": "code",
      "source": [
        "# Using np.ndarray.reshape(-1) =>  When -1 is used as one of the dimensions in reshape, NumPy automatically calculates the appropriate size for that dimension\n",
        "array1 = np.array([[1, 2, 3], [2, 4, 5], [1, 2, 3]])\n",
        "print(\"Original array:-\")\n",
        "print(array1)\n",
        "\n",
        "array1 = array1.reshape(-1)\n",
        "print(f\"Reshaped array: {array1}\")"
      ],
      "metadata": {
        "colab": {
          "base_uri": "https://localhost:8080/"
        },
        "id": "I4ljPsOfx_JY",
        "outputId": "10b40a2c-7302-49fe-be56-c09937193349"
      },
      "execution_count": null,
      "outputs": [
        {
          "output_type": "stream",
          "name": "stdout",
          "text": [
            "Original array:-\n",
            "[[1 2 3]\n",
            " [2 4 5]\n",
            " [1 2 3]]\n",
            "Reshaped array: [1 2 3 2 4 5 1 2 3]\n"
          ]
        }
      ]
    },
    {
      "cell_type": "markdown",
      "source": [
        "##### (c) Compare the following numpy arrays:\n",
        "\n",
        "`arr1 = np.array([[1, 2], [3, 4]])`\n",
        "\n",
        "`arr2 = np.array([[1, 2], [3, 4]])`"
      ],
      "metadata": {
        "id": "QVkloOXRygYM"
      }
    },
    {
      "cell_type": "code",
      "source": [
        "arr1 = np.array([[1, 2], [3, 4]])\n",
        "arr2 = np.array([[1, 2], [3, 4]])\n",
        "\n",
        "print(f\"Are both arrays same:-\")\n",
        "print((arr1 == arr2).all())\n",
        "print(np.array_equal(arr1, arr2))"
      ],
      "metadata": {
        "colab": {
          "base_uri": "https://localhost:8080/"
        },
        "id": "E_pDSnsRymwb",
        "outputId": "9ab851bc-8508-4ebf-cbb1-d80efdf7ba67"
      },
      "execution_count": null,
      "outputs": [
        {
          "output_type": "stream",
          "name": "stdout",
          "text": [
            "Are both arrays same:-\n",
            "True\n",
            "True\n"
          ]
        }
      ]
    },
    {
      "cell_type": "markdown",
      "source": [
        "##### (d) Find the most frequent value and their indice(s) in the following arrays:\n",
        "i. `x = np.array([1,2,3,4,5,1,2,1,1,1])`\n",
        "\n",
        "ii. `y = np.array([1, 1, 1, 2, 3, 4, 2, 4, 3, 3, ])`"
      ],
      "metadata": {
        "id": "RageuPRwyz1J"
      }
    },
    {
      "cell_type": "code",
      "source": [
        "def calculate_mode(arr: np.ndarray):\n",
        "  unique_vals, counts = np.unique(arr, return_counts=True)\n",
        "  mode_indices = np.where(counts == counts.max())\n",
        "  return unique_vals[mode_indices].tolist()"
      ],
      "metadata": {
        "id": "fk3YrUXN0xmY"
      },
      "execution_count": null,
      "outputs": []
    },
    {
      "cell_type": "code",
      "source": [
        "x = np.array([1,2,3,4,5,1,2,1,1,1])\n",
        "print(f\"x = {x}\")\n",
        "print(f\"Mode(s) of x = {calculate_mode(x)}\")\n",
        "\n",
        "y = np.array([1, 1, 1, 2, 3, 4, 2, 4, 3, 3, ])\n",
        "print(f\"y = {y}\")\n",
        "print(f\"Mode(s) of y = {calculate_mode(y)}\")"
      ],
      "metadata": {
        "colab": {
          "base_uri": "https://localhost:8080/"
        },
        "id": "8lPLksFnzmgr",
        "outputId": "162da09c-bb6f-4836-d7e7-2754431109c2"
      },
      "execution_count": 26,
      "outputs": [
        {
          "output_type": "stream",
          "name": "stdout",
          "text": [
            "x = [1 2 3 4 5 1 2 1 1 1]\n",
            "Mode(s) of x = [1]\n",
            "y = [1 1 1 2 3 4 2 4 3 3]\n",
            "Mode(s) of y = [1, 3]\n"
          ]
        }
      ]
    },
    {
      "cell_type": "markdown",
      "source": [
        "##### (e) For the array `gfg = np.matrix('[4, 1, 9; 12, 3, 1; 4, 5, 6]')`\n",
        "Find\n",
        "\n",
        "i. Sum of all elements\n",
        "\n",
        "ii. Sum of all elements row-wise\n",
        "\n",
        "iii. Sum of all elements column-wise"
      ],
      "metadata": {
        "id": "0fR5Tmoo0w3t"
      }
    },
    {
      "cell_type": "code",
      "source": [
        "gfg = np.matrix('[4, 1, 9; 12, 3, 1; 4, 5, 6]')\n",
        "\n",
        "print(\"Matrix:-\")\n",
        "print(gfg, end=\"\\n\\n\")\n",
        "\n",
        "# i. Sum of all elements\n",
        "s = gfg.sum()\n",
        "print(f\"Sum of all elements = {s}\\n\")\n",
        "\n",
        "# ii. Row-wise sum\n",
        "s1 = gfg.sum(axis=1).flatten().tolist()[0]\n",
        "for i, row in enumerate(s1, start=1):\n",
        "    print(f\"Sum of row {i} = {row}\")\n",
        "\n",
        "print()\n",
        "\n",
        "# iii. Col-wise sum\n",
        "s2 = gfg.sum(axis=0).flatten().tolist()[0]\n",
        "for j, col in enumerate(s2, start=1):\n",
        "    print(f\"Sum of column {j} = {col}\")"
      ],
      "metadata": {
        "colab": {
          "base_uri": "https://localhost:8080/"
        },
        "id": "9a9anpBJSp8p",
        "outputId": "e148d9ee-364c-4f47-fd94-1c546da8f7b4"
      },
      "execution_count": 74,
      "outputs": [
        {
          "output_type": "stream",
          "name": "stdout",
          "text": [
            "Matrix:-\n",
            "[[ 4  1  9]\n",
            " [12  3  1]\n",
            " [ 4  5  6]]\n",
            "\n",
            "Sum of all elements = 45\n",
            "\n",
            "Sum of row 1 = 14\n",
            "Sum of row 2 = 16\n",
            "Sum of row 3 = 15\n",
            "\n",
            "Sum of column 1 = 20\n",
            "Sum of column 2 = 9\n",
            "Sum of column 3 = 16\n"
          ]
        }
      ]
    },
    {
      "cell_type": "markdown",
      "source": [
        "##### (f) For the matrix: `n_array = np.array([[55, 25, 15],[30, 44, 2],[11, 45, 77]])`, find\n",
        "\n",
        "i. Sum of diagonal elements\n",
        "\n",
        "ii. Eigen values of matrix\n",
        "\n",
        "iii. Eigen vectors of matrix\n",
        "\n",
        "iv. Inverse of matrix\n",
        "\n",
        "v. Determinant of matrix"
      ],
      "metadata": {
        "id": "oCvIJSPzdhNm"
      }
    },
    {
      "cell_type": "code",
      "source": [
        "n_array = np.array([[55, 25, 15],[30, 44, 2],[11, 45, 77]])\n",
        "print(f\"Array:-\\n{n_array}\\n\")\n",
        "\n",
        "# i. Sum of diagonal elements\n",
        "diag = np.trace(n_array)\n",
        "print(f\"Sum of main diagonal elements = {diag}\\n\")\n",
        "\n",
        "# ii. Eigenvalues of matrix A => Solutions of det(A - xI) = 0\n",
        "# iii. Eigenvectors of mtrx A => Solutions of Ax = lx\n",
        "evals, evects = np.linalg.eig(n_array)\n",
        "print(f\"Eigenvalues = {', '.join(np.round(evals, decimals=4).astype(str))}\")\n",
        "print(f\"Eigenvectors:-\")\n",
        "for i in evects:\n",
        "    print(\"[\", end=\"\")\n",
        "    for j in i:\n",
        "        print(j.round(decimals=4), end=\", \") if (j != i[-1]) else print(j.round(decimals=4), end=\"]\\n\")\n",
        "print()\n",
        "\n",
        "# iv. Inverse of matrix = adj(A) / det(A)\n",
        "n_inv = np.linalg.inv(n_array)\n",
        "print(f\"Inverse:-\\n{n_inv.round(decimals=4)}\\n\")\n",
        "\n",
        "# v. Determinant of matrix\n",
        "n_det = np.linalg.det(n_array)\n",
        "print(f\"Determinant = {n_det:.4f}\")"
      ],
      "metadata": {
        "colab": {
          "base_uri": "https://localhost:8080/"
        },
        "id": "f8Rpudqgfx7E",
        "outputId": "55092343-dea1-46b4-ba4e-52f5137a1a6d"
      },
      "execution_count": 115,
      "outputs": [
        {
          "output_type": "stream",
          "name": "stdout",
          "text": [
            "Array:-\n",
            "[[55 25 15]\n",
            " [30 44  2]\n",
            " [11 45 77]]\n",
            "\n",
            "Sum of main diagonal elements = 176\n",
            "\n",
            "Eigenvalues = 98.1684, 28.097, 49.7346\n",
            "Eigenvectors:-\n",
            "[0.4575, 0.3464, -0.1502]\n",
            "[0.2845, -0.7278, -0.4852]\n",
            "[0.8425, 0.5918, 0.8614]\n",
            "\n",
            "Inverse:-\n",
            "[[ 0.024  -0.0091 -0.0044]\n",
            " [-0.0167  0.0297  0.0025]\n",
            " [ 0.0063 -0.016   0.0122]]\n",
            "\n",
            "Determinant = 137180.0000\n"
          ]
        }
      ]
    },
    {
      "cell_type": "markdown",
      "source": [
        "##### (g) Multiply the following matrices and also find covariance between matrices using NumPy:"
      ],
      "metadata": {
        "id": "KKCxKug29Ce4"
      }
    },
    {
      "cell_type": "markdown",
      "source": [
        "###### i.\n",
        "```\n",
        "p = [[1, 2], [2, 3]]\n",
        "q = [[4, 5], [6, 7]]\n",
        "```"
      ],
      "metadata": {
        "id": "g07mdRu09rFE"
      }
    },
    {
      "cell_type": "code",
      "source": [
        "p = np.array([[1, 2], [2, 3]])\n",
        "q = np.array([[4, 5], [6, 7]])\n",
        "print(f\"p = \\n{p}\\n\")\n",
        "print(f\"q = \\n{q}\\n\")\n",
        "\n",
        "# Matrix mult\n",
        "prod = p @ q\n",
        "print(f\"Matrix product of p × q = \\n{prod}\")\n",
        "\n",
        "# Covariance\n",
        "np.cov(p)\n",
        "np.cov(q)"
      ],
      "metadata": {
        "colab": {
          "base_uri": "https://localhost:8080/"
        },
        "id": "fMkR5_jU9ynP",
        "outputId": "5af550ee-d78f-42ee-e934-852b5be70801"
      },
      "execution_count": 126,
      "outputs": [
        {
          "output_type": "stream",
          "name": "stdout",
          "text": [
            "p = \n",
            "[[1 2]\n",
            " [2 3]]\n",
            "\n",
            "q = \n",
            "[[4 5]\n",
            " [6 7]]\n",
            "\n",
            "Matrix product of p × q = \n",
            "[[16 19]\n",
            " [26 31]]\n"
          ]
        },
        {
          "output_type": "execute_result",
          "data": {
            "text/plain": [
              "array([[0.5, 0.5],\n",
              "       [0.5, 0.5]])"
            ]
          },
          "metadata": {},
          "execution_count": 126
        }
      ]
    }
  ]
}